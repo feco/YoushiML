{
 "cells": [
  {
   "cell_type": "code",
   "execution_count": 1,
   "metadata": {},
   "outputs": [],
   "source": [
    "import abc\n",
    "import tensorflow as tf\n",
    "import numpy as np\n",
    "\n",
    "from tf_agents.environments import py_environment\n",
    "from tf_agents.environments import tf_environment\n",
    "from tf_agents.environments import tf_py_environment\n",
    "from tf_agents.environments import utils\n",
    "from tf_agents.specs import array_spec\n",
    "from tf_agents.environments import wrappers\n",
    "from tf_agents.environments import suite_gym\n",
    "from tf_agents.trajectories import time_step as ts"
   ]
  },
  {
   "cell_type": "code",
   "execution_count": 2,
   "metadata": {},
   "outputs": [
    {
     "name": "stdout",
     "output_type": "stream",
     "text": [
      "pygame 1.9.6\n",
      "Hello from the pygame community. https://www.pygame.org/contribute.html\n"
     ]
    }
   ],
   "source": [
    "import GameHard\n",
    "import DisplayIA\n",
    "\n",
    "\n",
    "class YoushiEnv(py_environment.PyEnvironment):\n",
    "    \n",
    "    def __init__(self):\n",
    "        self._env = GameHard.Game()\n",
    "        self._action_spec = array_spec.BoundedArraySpec(\n",
    "            shape=(), dtype=np.int32, minimum=0, maximum=2, name='action')\n",
    "        self._observation_spec = array_spec.BoundedArraySpec(\n",
    "            shape=(15, 2), dtype=np.float64, minimum=-999, maximum=600, name='observation')\n",
    "        self._state = self._env.reset()\n",
    "        self._episode_ended = False\n",
    "        \n",
    "    def action_spec(self):\n",
    "        return self._action_spec\n",
    "    \n",
    "    def observation_spec(self):\n",
    "        return self._observation_spec\n",
    "    \n",
    "    def _reset(self):\n",
    "        self._state = self._env.reset()\n",
    "        self._episode_ended = False\n",
    "        return ts.restart(self._state)\n",
    "    \n",
    "    def _step(self, action):\n",
    "        \n",
    "        if self._episode_ended:\n",
    "            return self.reset()\n",
    "        \n",
    "        cumulative_reward = 0\n",
    "        cumulative_done = False\n",
    "        for i in range(4):\n",
    "            obs, reward, done, info = self._env.step(action)\n",
    "            cumulative_reward += reward\n",
    "            self._state = obs\n",
    "            if (done):\n",
    "                cumulative_done = True\n",
    "                break\n",
    "        \n",
    "        if cumulative_done:\n",
    "            self._episode_ended = True\n",
    "            return ts.termination(self._state, reward)\n",
    "        else:\n",
    "            return ts.transition(self._state, reward, discount=0.98)"
   ]
  },
  {
   "cell_type": "code",
   "execution_count": 3,
   "metadata": {},
   "outputs": [],
   "source": [
    "from tf_agents.environments.tf_py_environment import TFPyEnvironment\n",
    "\n",
    "tf_env = TFPyEnvironment(YoushiEnv)"
   ]
  },
  {
   "cell_type": "code",
   "execution_count": 4,
   "metadata": {},
   "outputs": [],
   "source": [
    "from tf_agents.networks.q_network import QNetwork\n",
    "from tensorflow import keras\n",
    "\n",
    "preprocessing_layer = keras.layers.Lambda(lambda obs: tf.cast(obs, np.float64) / 1000)\n",
    "fc_layer_params=[300, 200, 300]\n",
    "\n",
    "q_net = QNetwork(tf_env.observation_spec(),\n",
    "                tf_env.action_spec(),\n",
    "                preprocessing_layers=preprocessing_layer,\n",
    "                conv_layer_params=None,\n",
    "                fc_layer_params=fc_layer_params)"
   ]
  },
  {
   "cell_type": "code",
   "execution_count": 5,
   "metadata": {},
   "outputs": [
    {
     "name": "stdout",
     "output_type": "stream",
     "text": [
      "WARNING:tensorflow:Layer QNetwork is casting an input tensor from dtype float64 to the layer's dtype of float32, which is new behavior in TensorFlow 2.  The layer has dtype float32 because it's dtype defaults to floatx.\n",
      "\n",
      "If you intended to run this layer in float32, you can safely ignore this warning. If in doubt, this warning is likely only an issue if you are porting a TensorFlow 1.X model to TensorFlow 2.\n",
      "\n",
      "To change all layers to have dtype float64 by default, call `tf.keras.backend.set_floatx('float64')`. To change just this layer, pass dtype='float64' to the layer constructor. If you are the author of this layer, you can disable autocasting by passing autocast=False to the base Layer constructor.\n",
      "\n",
      "WARNING:tensorflow:Layer flatten is casting an input tensor from dtype float64 to the layer's dtype of float32, which is new behavior in TensorFlow 2.  The layer has dtype float32 because it's dtype defaults to floatx.\n",
      "\n",
      "If you intended to run this layer in float32, you can safely ignore this warning. If in doubt, this warning is likely only an issue if you are porting a TensorFlow 1.X model to TensorFlow 2.\n",
      "\n",
      "To change all layers to have dtype float64 by default, call `tf.keras.backend.set_floatx('float64')`. To change just this layer, pass dtype='float64' to the layer constructor. If you are the author of this layer, you can disable autocasting by passing autocast=False to the base Layer constructor.\n",
      "\n",
      "WARNING:tensorflow:Layer TargetQNetwork is casting an input tensor from dtype float64 to the layer's dtype of float32, which is new behavior in TensorFlow 2.  The layer has dtype float32 because it's dtype defaults to floatx.\n",
      "\n",
      "If you intended to run this layer in float32, you can safely ignore this warning. If in doubt, this warning is likely only an issue if you are porting a TensorFlow 1.X model to TensorFlow 2.\n",
      "\n",
      "To change all layers to have dtype float64 by default, call `tf.keras.backend.set_floatx('float64')`. To change just this layer, pass dtype='float64' to the layer constructor. If you are the author of this layer, you can disable autocasting by passing autocast=False to the base Layer constructor.\n",
      "\n",
      "WARNING:tensorflow:Layer flatten_1 is casting an input tensor from dtype float64 to the layer's dtype of float32, which is new behavior in TensorFlow 2.  The layer has dtype float32 because it's dtype defaults to floatx.\n",
      "\n",
      "If you intended to run this layer in float32, you can safely ignore this warning. If in doubt, this warning is likely only an issue if you are porting a TensorFlow 1.X model to TensorFlow 2.\n",
      "\n",
      "To change all layers to have dtype float64 by default, call `tf.keras.backend.set_floatx('float64')`. To change just this layer, pass dtype='float64' to the layer constructor. If you are the author of this layer, you can disable autocasting by passing autocast=False to the base Layer constructor.\n",
      "\n"
     ]
    }
   ],
   "source": [
    "from tf_agents.agents.dqn.dqn_agent import DqnAgent\n",
    "\n",
    "train_step = tf.Variable(0)\n",
    "update_period = 4\n",
    "optimizer = keras.optimizers.RMSprop(lr=2.5e-4, rho=0.95, momentum=0.0, epsilon=0.00001, centered=True)\n",
    "epsilon_fn = keras.optimizers.schedules.PolynomialDecay(initial_learning_rate=1.0, \n",
    "                                                        decay_steps=250000 // update_period,\n",
    "                                                        end_learning_rate=0.01)\n",
    "agent = DqnAgent(tf_env.time_step_spec(), tf_env.action_spec(),\n",
    "                 q_network=q_net, optimizer=optimizer,\n",
    "                 target_update_period=2000,\n",
    "                 td_errors_loss_fn=keras.losses.Huber(reduction=\"none\"),\n",
    "                 gamma=0.99,\n",
    "                 train_step_counter=train_step,\n",
    "                 epsilon_greedy=lambda: epsilon_fn(train_step))\n",
    "agent.initialize()"
   ]
  },
  {
   "cell_type": "code",
   "execution_count": 6,
   "metadata": {},
   "outputs": [],
   "source": [
    "from tf_agents.replay_buffers import tf_uniform_replay_buffer\n",
    "\n",
    "replay_buffer = tf_uniform_replay_buffer.TFUniformReplayBuffer(data_spec=agent.collect_data_spec,\n",
    "                                                               batch_size=tf_env.batch_size,\n",
    "                                                               max_length=100000)\n",
    "replay_buffer_observer = replay_buffer.add_batch"
   ]
  },
  {
   "cell_type": "code",
   "execution_count": 7,
   "metadata": {},
   "outputs": [],
   "source": [
    "class ShowProgress:\n",
    "    def __init__(self, total):\n",
    "        self.counter = 0\n",
    "        self.total = total\n",
    "    def __call__(self, trajectory):\n",
    "        if not trajectory.is_boundary():\n",
    "            self.counter += 1\n",
    "        if self.counter % 100 == 0:\n",
    "            print(\"/r{}/{}\".format(self.counter, self.total), end=\"\")"
   ]
  },
  {
   "cell_type": "code",
   "execution_count": 8,
   "metadata": {},
   "outputs": [],
   "source": [
    "from tf_agents.metrics import tf_metrics\n",
    "\n",
    "train_metrics = [\n",
    "    tf_metrics.NumberOfEpisodes(),\n",
    "    tf_metrics.EnvironmentSteps(),\n",
    "    tf_metrics.AverageReturnMetric(),\n",
    "    tf_metrics.AverageEpisodeLengthMetric()]"
   ]
  },
  {
   "cell_type": "code",
   "execution_count": 9,
   "metadata": {},
   "outputs": [],
   "source": [
    "from tf_agents.drivers.dynamic_step_driver import DynamicStepDriver\n",
    "\n",
    "collect_driver = DynamicStepDriver(tf_env,\n",
    "                                   agent.collect_policy,\n",
    "                                   observers=[replay_buffer_observer] + train_metrics,\n",
    "                                   num_steps=update_period)"
   ]
  },
  {
   "cell_type": "code",
   "execution_count": 10,
   "metadata": {},
   "outputs": [
    {
     "name": "stdout",
     "output_type": "stream",
     "text": [
      "/r100/20000/r200/20000/r300/20000/r400/20000/r500/20000/r600/20000/r700/20000/r800/20000/r900/20000/r1000/20000/r1100/20000/r1200/20000/r1300/20000/r1400/20000/r1500/20000/r1600/20000/r1700/20000/r1800/20000/r1900/20000/r2000/20000/r2100/20000/r2200/20000/r2300/20000/r2400/20000/r2500/20000/r2600/20000/r2700/20000/r2800/20000/r2900/20000/r3000/20000/r3100/20000/r3200/20000/r3300/20000/r3400/20000/r3500/20000/r3600/20000/r3700/20000/r3800/20000/r3900/20000/r4000/20000/r4100/20000/r4200/20000/r4300/20000/r4400/20000/r4500/20000/r4600/20000/r4600/20000/r4700/20000/r4800/20000/r4900/20000/r5000/20000/r5100/20000/r5200/20000/r5300/20000/r5400/20000/r5500/20000/r5600/20000/r5700/20000/r5800/20000/r5900/20000/r6000/20000/r6100/20000/r6200/20000/r6300/20000/r6400/20000/r6500/20000/r6600/20000/r6700/20000/r6800/20000/r6900/20000/r7000/20000/r7100/20000/r7200/20000/r7300/20000/r7400/20000/r7500/20000/r7600/20000/r7700/20000/r7800/20000/r7900/20000/r8000/20000/r8100/20000/r8200/20000/r8300/20000/r8400/20000/r8500/20000/r8600/20000/r8700/20000/r8800/20000/r8900/20000/r8900/20000/r9000/20000/r9100/20000/r9200/20000/r9300/20000/r9400/20000/r9500/20000/r9600/20000/r9700/20000/r9800/20000/r9900/20000/r10000/20000/r10000/20000/r10100/20000/r10200/20000/r10300/20000/r10400/20000/r10500/20000/r10600/20000/r10700/20000/r10800/20000/r10900/20000/r11000/20000/r11100/20000/r11200/20000/r11300/20000/r11400/20000/r11500/20000/r11600/20000/r11700/20000/r11800/20000/r11900/20000/r12000/20000/r12100/20000/r12200/20000/r12300/20000/r12400/20000/r12500/20000/r12600/20000/r12700/20000/r12800/20000/r12900/20000/r13000/20000/r13100/20000/r13200/20000/r13300/20000/r13400/20000/r13500/20000/r13600/20000/r13700/20000/r13800/20000/r13900/20000/r13900/20000/r14000/20000/r14100/20000/r14200/20000/r14300/20000/r14400/20000/r14500/20000/r14600/20000/r14700/20000/r14800/20000/r14900/20000/r15000/20000/r15100/20000/r15200/20000/r15300/20000/r15400/20000/r15500/20000/r15600/20000/r15700/20000/r15800/20000/r15900/20000/r16000/20000/r16100/20000/r16200/20000/r16300/20000/r16400/20000/r16500/20000/r16600/20000/r16700/20000/r16800/20000/r16800/20000/r16900/20000/r17000/20000/r17100/20000/r17200/20000/r17300/20000/r17400/20000/r17500/20000/r17600/20000/r17700/20000/r17800/20000/r17900/20000/r18000/20000/r18100/20000/r18200/20000/r18300/20000/r18400/20000/r18500/20000/r18600/20000/r18700/20000/r18800/20000/r18900/20000/r19000/20000/r19100/20000/r19200/20000/r19300/20000/r19400/20000/r19400/20000/r19500/20000/r19600/20000/r19700/20000/r19800/20000/r19900/20000/r20000/20000"
     ]
    }
   ],
   "source": [
    "from tf_agents.policies.random_tf_policy import RandomTFPolicy\n",
    "\n",
    "initial_collect_policy = RandomTFPolicy(tf_env.time_step_spec(),\n",
    "                                        tf_env.action_spec())\n",
    "init_driver = DynamicStepDriver(tf_env,\n",
    "                                initial_collect_policy,\n",
    "                                observers=[replay_buffer.add_batch, ShowProgress(20000)],\n",
    "                                num_steps=20000)\n",
    "final_time_step, final_policy_state = init_driver.run()"
   ]
  },
  {
   "cell_type": "code",
   "execution_count": 11,
   "metadata": {},
   "outputs": [],
   "source": [
    "dataset = replay_buffer.as_dataset(sample_batch_size=64, num_steps=2, num_parallel_calls=10).prefetch(10)"
   ]
  },
  {
   "cell_type": "code",
   "execution_count": 12,
   "metadata": {},
   "outputs": [
    {
     "name": "stderr",
     "output_type": "stream",
     "text": [
      "INFO:absl: \n",
      "\t\t NumberOfEpisodes = 0\n",
      "\t\t EnvironmentSteps = 0\n",
      "\t\t AverageReturn = 0.0\n",
      "\t\t AverageEpisodeLength = 0.0\n"
     ]
    }
   ],
   "source": [
    "from tf_agents.eval.metric_utils import log_metrics\n",
    "import logging\n",
    "logging.getLogger().setLevel(logging.INFO)\n",
    "log_metrics(train_metrics)"
   ]
  },
  {
   "cell_type": "code",
   "execution_count": 13,
   "metadata": {},
   "outputs": [],
   "source": [
    "from tf_agents.utils.common import function\n",
    "\n",
    "collect_driver.run = function(collect_driver.run)\n",
    "agent.train = function(agent.train)\n",
    "\n",
    "def train_agent(n_iterations):\n",
    "    time_step = None\n",
    "    policy_state = agent.collect_policy.get_initial_state(tf_env.batch_size)\n",
    "    iterator = iter(dataset)\n",
    "    for iteration in range(n_iterations):\n",
    "        time_step, policy_state = collect_driver.run(time_step, policy_state)\n",
    "        trajectories, buffer_info = next(iterator)\n",
    "        train_loss = agent.train(trajectories)\n",
    "        print(\"\\r{} loss:{:.5f}\".format(iteration, train_loss.loss.numpy()), end=\"\")\n",
    "        if iteration % 100000 == 0:\n",
    "            log_metrics(train_metrics)"
   ]
  },
  {
   "cell_type": "code",
   "execution_count": 14,
   "metadata": {},
   "outputs": [
    {
     "name": "stderr",
     "output_type": "stream",
     "text": [
      "INFO:absl: \n",
      "\t\t NumberOfEpisodes = 0\n",
      "\t\t EnvironmentSteps = 4\n",
      "\t\t AverageReturn = 0.0\n",
      "\t\t AverageEpisodeLength = 0.0\n"
     ]
    },
    {
     "name": "stdout",
     "output_type": "stream",
     "text": [
      "99992 loss:0.85718"
     ]
    },
    {
     "name": "stderr",
     "output_type": "stream",
     "text": [
      "INFO:absl: \n",
      "\t\t NumberOfEpisodes = 8017\n",
      "\t\t EnvironmentSteps = 400004\n",
      "\t\t AverageReturn = 152.10000610351562\n",
      "\t\t AverageEpisodeLength = 153.10000610351562\n"
     ]
    },
    {
     "name": "stdout",
     "output_type": "stream",
     "text": [
      "199990 loss:0.00497"
     ]
    },
    {
     "name": "stderr",
     "output_type": "stream",
     "text": [
      "INFO:absl: \n",
      "\t\t NumberOfEpisodes = 11744\n",
      "\t\t EnvironmentSteps = 800004\n",
      "\t\t AverageReturn = 165.3000030517578\n",
      "\t\t AverageEpisodeLength = 166.3000030517578\n"
     ]
    },
    {
     "name": "stdout",
     "output_type": "stream",
     "text": [
      "299992 loss:0.00713"
     ]
    },
    {
     "name": "stderr",
     "output_type": "stream",
     "text": [
      "INFO:absl: \n",
      "\t\t NumberOfEpisodes = 14846\n",
      "\t\t EnvironmentSteps = 1200004\n",
      "\t\t AverageReturn = 148.10000610351562\n",
      "\t\t AverageEpisodeLength = 149.10000610351562\n"
     ]
    },
    {
     "name": "stdout",
     "output_type": "stream",
     "text": [
      "399986 loss:0.01189"
     ]
    },
    {
     "name": "stderr",
     "output_type": "stream",
     "text": [
      "INFO:absl: \n",
      "\t\t NumberOfEpisodes = 17596\n",
      "\t\t EnvironmentSteps = 1600004\n",
      "\t\t AverageReturn = 202.1999969482422\n",
      "\t\t AverageEpisodeLength = 203.1999969482422\n"
     ]
    },
    {
     "name": "stdout",
     "output_type": "stream",
     "text": [
      "499996 loss:0.49428"
     ]
    },
    {
     "name": "stderr",
     "output_type": "stream",
     "text": [
      "INFO:absl: \n",
      "\t\t NumberOfEpisodes = 20109\n",
      "\t\t EnvironmentSteps = 2000004\n",
      "\t\t AverageReturn = 110.9000015258789\n",
      "\t\t AverageEpisodeLength = 111.9000015258789\n"
     ]
    },
    {
     "name": "stdout",
     "output_type": "stream",
     "text": [
      "599987 loss:0.52577"
     ]
    },
    {
     "name": "stderr",
     "output_type": "stream",
     "text": [
      "INFO:absl: \n",
      "\t\t NumberOfEpisodes = 22575\n",
      "\t\t EnvironmentSteps = 2400004\n",
      "\t\t AverageReturn = 118.0999984741211\n",
      "\t\t AverageEpisodeLength = 119.0999984741211\n"
     ]
    },
    {
     "name": "stdout",
     "output_type": "stream",
     "text": [
      "699994 loss:0.51649"
     ]
    },
    {
     "name": "stderr",
     "output_type": "stream",
     "text": [
      "INFO:absl: \n",
      "\t\t NumberOfEpisodes = 24952\n",
      "\t\t EnvironmentSteps = 2800004\n",
      "\t\t AverageReturn = 65.0999984741211\n",
      "\t\t AverageEpisodeLength = 66.0999984741211\n"
     ]
    },
    {
     "name": "stdout",
     "output_type": "stream",
     "text": [
      "799998 loss:0.01450"
     ]
    },
    {
     "name": "stderr",
     "output_type": "stream",
     "text": [
      "INFO:absl: \n",
      "\t\t NumberOfEpisodes = 27321\n",
      "\t\t EnvironmentSteps = 3200004\n",
      "\t\t AverageReturn = 153.39999389648438\n",
      "\t\t AverageEpisodeLength = 154.39999389648438\n"
     ]
    },
    {
     "name": "stdout",
     "output_type": "stream",
     "text": [
      "899990 loss:0.00489"
     ]
    },
    {
     "name": "stderr",
     "output_type": "stream",
     "text": [
      "INFO:absl: \n",
      "\t\t NumberOfEpisodes = 29791\n",
      "\t\t EnvironmentSteps = 3600004\n",
      "\t\t AverageReturn = 170.1999969482422\n",
      "\t\t AverageEpisodeLength = 171.1999969482422\n"
     ]
    },
    {
     "name": "stdout",
     "output_type": "stream",
     "text": [
      "999999 loss:0.53167"
     ]
    }
   ],
   "source": [
    "from tf_agents.eval.metric_utils import log_metrics\n",
    "\n",
    "train_agent(1000000)"
   ]
  },
  {
   "cell_type": "code",
   "execution_count": 15,
   "metadata": {},
   "outputs": [
    {
     "ename": "NotImplementedError",
     "evalue": "Saving the model to HDF5 format requires the model to be a Functional model or a Sequential model. It does not work for subclassed models, because such models are defined via the body of a Python method, which isn't safely serializable. Consider saving to the Tensorflow SavedModel format (by setting save_format=\"tf\") or using `save_weights`.",
     "output_type": "error",
     "traceback": [
      "\u001b[1;31m---------------------------------------------------------------------------\u001b[0m",
      "\u001b[1;31mNotImplementedError\u001b[0m                       Traceback (most recent call last)",
      "\u001b[1;32m<ipython-input-15-a7fd5606acc4>\u001b[0m in \u001b[0;36m<module>\u001b[1;34m\u001b[0m\n\u001b[0;32m      1\u001b[0m \u001b[1;31m#Saving trained network\u001b[0m\u001b[1;33m\u001b[0m\u001b[1;33m\u001b[0m\u001b[1;33m\u001b[0m\u001b[0m\n\u001b[1;32m----> 2\u001b[1;33m \u001b[0mq_net\u001b[0m\u001b[1;33m.\u001b[0m\u001b[0msave\u001b[0m\u001b[1;33m(\u001b[0m\u001b[1;34m\"SavedQNetHard.h5\"\u001b[0m\u001b[1;33m,\u001b[0m \u001b[0msave_format\u001b[0m\u001b[1;33m=\u001b[0m\u001b[1;34m'h5'\u001b[0m\u001b[1;33m)\u001b[0m\u001b[1;33m\u001b[0m\u001b[1;33m\u001b[0m\u001b[0m\n\u001b[0m",
      "\u001b[1;32m~\\Anaconda3\\envs\\tf2\\lib\\site-packages\\tensorflow_core\\python\\keras\\engine\\network.py\u001b[0m in \u001b[0;36msave\u001b[1;34m(self, filepath, overwrite, include_optimizer, save_format, signatures, options)\u001b[0m\n\u001b[0;32m   1006\u001b[0m     \"\"\"\n\u001b[0;32m   1007\u001b[0m     save.save_model(self, filepath, overwrite, include_optimizer, save_format,\n\u001b[1;32m-> 1008\u001b[1;33m                     signatures, options)\n\u001b[0m\u001b[0;32m   1009\u001b[0m \u001b[1;33m\u001b[0m\u001b[0m\n\u001b[0;32m   1010\u001b[0m   \u001b[1;32mdef\u001b[0m \u001b[0msave_weights\u001b[0m\u001b[1;33m(\u001b[0m\u001b[0mself\u001b[0m\u001b[1;33m,\u001b[0m \u001b[0mfilepath\u001b[0m\u001b[1;33m,\u001b[0m \u001b[0moverwrite\u001b[0m\u001b[1;33m=\u001b[0m\u001b[1;32mTrue\u001b[0m\u001b[1;33m,\u001b[0m \u001b[0msave_format\u001b[0m\u001b[1;33m=\u001b[0m\u001b[1;32mNone\u001b[0m\u001b[1;33m)\u001b[0m\u001b[1;33m:\u001b[0m\u001b[1;33m\u001b[0m\u001b[1;33m\u001b[0m\u001b[0m\n",
      "\u001b[1;32m~\\Anaconda3\\envs\\tf2\\lib\\site-packages\\tensorflow_core\\python\\keras\\saving\\save.py\u001b[0m in \u001b[0;36msave_model\u001b[1;34m(model, filepath, overwrite, include_optimizer, save_format, signatures, options)\u001b[0m\n\u001b[0;32m    103\u001b[0m         not isinstance(model, sequential.Sequential)):\n\u001b[0;32m    104\u001b[0m       raise NotImplementedError(\n\u001b[1;32m--> 105\u001b[1;33m           \u001b[1;34m'Saving the model to HDF5 format requires the model to be a '\u001b[0m\u001b[1;33m\u001b[0m\u001b[1;33m\u001b[0m\u001b[0m\n\u001b[0m\u001b[0;32m    106\u001b[0m           \u001b[1;34m'Functional model or a Sequential model. It does not work for '\u001b[0m\u001b[1;33m\u001b[0m\u001b[1;33m\u001b[0m\u001b[0m\n\u001b[0;32m    107\u001b[0m           \u001b[1;34m'subclassed models, because such models are defined via the body of '\u001b[0m\u001b[1;33m\u001b[0m\u001b[1;33m\u001b[0m\u001b[0m\n",
      "\u001b[1;31mNotImplementedError\u001b[0m: Saving the model to HDF5 format requires the model to be a Functional model or a Sequential model. It does not work for subclassed models, because such models are defined via the body of a Python method, which isn't safely serializable. Consider saving to the Tensorflow SavedModel format (by setting save_format=\"tf\") or using `save_weights`."
     ]
    }
   ],
   "source": []
  },
  {
   "cell_type": "code",
   "execution_count": 16,
   "metadata": {},
   "outputs": [
    {
     "name": "stdout",
     "output_type": "stream",
     "text": [
      "WARNING:tensorflow:From C:\\Users\\drago\\Anaconda3\\envs\\tf2\\lib\\site-packages\\tensorflow_core\\python\\ops\\resource_variable_ops.py:1786: calling BaseResourceVariable.__init__ (from tensorflow.python.ops.resource_variable_ops) with constraint is deprecated and will be removed in a future version.\n",
      "Instructions for updating:\n",
      "If using Keras pass *_constraint arguments to layers.\n"
     ]
    },
    {
     "name": "stderr",
     "output_type": "stream",
     "text": [
      "WARNING:tensorflow:From C:\\Users\\drago\\Anaconda3\\envs\\tf2\\lib\\site-packages\\tensorflow_core\\python\\ops\\resource_variable_ops.py:1786: calling BaseResourceVariable.__init__ (from tensorflow.python.ops.resource_variable_ops) with constraint is deprecated and will be removed in a future version.\n",
      "Instructions for updating:\n",
      "If using Keras pass *_constraint arguments to layers.\n"
     ]
    },
    {
     "name": "stdout",
     "output_type": "stream",
     "text": [
      "INFO:tensorflow:Assets written to: myPolicyHard\\assets\n"
     ]
    },
    {
     "name": "stderr",
     "output_type": "stream",
     "text": [
      "INFO:tensorflow:Assets written to: myPolicyHard\\assets\n"
     ]
    }
   ],
   "source": [
    "from tf_agents.policies.policy_saver import PolicySaver\n",
    "saver = PolicySaver(agent.policy, batch_size=None)\n",
    "saver.save('myPolicyHard')"
   ]
  },
  {
   "cell_type": "code",
   "execution_count": null,
   "metadata": {},
   "outputs": [],
   "source": []
  }
 ],
 "metadata": {
  "kernelspec": {
   "display_name": "Python 3",
   "language": "python",
   "name": "python3"
  },
  "language_info": {
   "codemirror_mode": {
    "name": "ipython",
    "version": 3
   },
   "file_extension": ".py",
   "mimetype": "text/x-python",
   "name": "python",
   "nbconvert_exporter": "python",
   "pygments_lexer": "ipython3",
   "version": "3.7.6"
  }
 },
 "nbformat": 4,
 "nbformat_minor": 4
}
